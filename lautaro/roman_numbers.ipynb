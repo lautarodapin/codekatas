{
 "cells": [
  {
   "cell_type": "code",
   "execution_count": 1,
   "metadata": {},
   "outputs": [],
   "source": [
    "from typing import *\n",
    "from collections import namedtuple\n",
    "from itertools import groupby\n",
    "import re"
   ]
  },
  {
   "cell_type": "code",
   "execution_count": 2,
   "metadata": {},
   "outputs": [],
   "source": [
    "RomanToDecimalTest = namedtuple('RomanToDecimalTest', 'roman_number number')\n",
    "\n",
    "def test_roman_to_decimal():\n",
    "    for test_value in TEST_VALUES:\n",
    "        result = RomanToDecimal(test_value.roman_number)\n",
    "        assert result.result == test_value.number, f'{result.result=}, {test_value.number=}'\n",
    "\n",
    "def test_decimal_to_roman():\n",
    "    for test_value in TEST_VALUES:\n",
    "        result = DecimalToRoman(test_value.number)\n",
    "        assert result.result == test_value.roman_number, f'{result.result=}, {test_value.roman_number=}'\n",
    "\n",
    "def test_roman_to_decimal_2():\n",
    "    for test_value in TEST_VALUES:\n",
    "        result = RomanToDecimal2(test_value.roman_number)\n",
    "        assert result.result == test_value.number, f'{result.result=}, {test_value.number=}'\n",
    "\n",
    "TEST_VALUES = [\n",
    "    RomanToDecimalTest('I', 1),\n",
    "    RomanToDecimalTest('II', 2),\n",
    "    RomanToDecimalTest('III', 3),\n",
    "    RomanToDecimalTest('IV', 4),\n",
    "    RomanToDecimalTest('V', 5),\n",
    "    RomanToDecimalTest('VI', 6),\n",
    "    RomanToDecimalTest('IX', 9),\n",
    "    RomanToDecimalTest('X', 10),\n",
    "    RomanToDecimalTest('XII', 12),\n",
    "    RomanToDecimalTest('XV', 15),\n",
    "    RomanToDecimalTest('XXIV', 24),\n",
    "    RomanToDecimalTest('XXV', 25),\n",
    "    RomanToDecimalTest('XXXVII', 37),\n",
    "    RomanToDecimalTest('CIV', 104),\n",
    "    RomanToDecimalTest('M', 1000),\n",
    "    RomanToDecimalTest('MM', 2000),\n",
    "    RomanToDecimalTest('MMMCMXCIX', 3999),\n",
    "]"
   ]
  },
  {
   "cell_type": "code",
   "execution_count": 3,
   "metadata": {},
   "outputs": [],
   "source": [
    "class NotRomanNumberException(Exception):\n",
    "    pass"
   ]
  },
  {
   "cell_type": "code",
   "execution_count": 4,
   "metadata": {},
   "outputs": [],
   "source": [
    "def _is_roman(string: str, letters: List[str]) -> bool:\n",
    "    izi_regex = re.compile(r'^(?=[MDCLXVI])M*(C[MD]|D?C{0,3})(X[CL]|L?X{0,3})(I[XV]|V?I{0,3})$')\n",
    "    groups = groupby(string)\n",
    "    # All letters are romman letters\n",
    "    if not all([letter in letters for letter in string]):\n",
    "        return False\n",
    "    # If any of the romman letters is repeated more than 3 times in a row, is not roman number\n",
    "    if any([count > 3 for _, count in [(label, sum(1 for _ in group)) for label, group in groups]]):\n",
    "        return False\n",
    "    # If any of the two letter romman numbers is repeated more than once, is not roman number\n",
    "    if any([len(string.split(double_letter)) - 1 > 1 for double_letter in filter(lambda x: len(x) == 2, letters)]):\n",
    "        return False\n",
    "    if not izi_regex.match(string.upper()):\n",
    "        return False\n",
    "    return True"
   ]
  },
  {
   "cell_type": "code",
   "execution_count": 5,
   "metadata": {},
   "outputs": [],
   "source": [
    "\n",
    "class RomanToDecimal:\n",
    "    letters: Dict[str, int] = dict(i=1, v=5, x=10, l=50, c=100, d=500, m=1000)\n",
    "    total: int\n",
    "    roman_number: str\n",
    "    result: Optional[int] = None\n",
    "\n",
    "    def __init__(self, roman_number: str) -> None:\n",
    "        if not isinstance(roman_number, str):\n",
    "            raise NotRomanNumberException(f'{roman_number=} must be a \"str\" instance')\n",
    "        if not _is_roman(roman_number.lower(), self.letters.keys()):\n",
    "            raise NotRomanNumberException(f'{roman_number=} is not a valid roman number')\n",
    "\n",
    "        self.roman_number = roman_number.lower()\n",
    "        self.number_list = [self.letters[letter] for letter in self.roman_number]\n",
    "        self()\n",
    "\n",
    "    def __repr__(self) -> str:\n",
    "        return f'{self.roman_number.upper()} = {self.result}'\n",
    "\n",
    "    def __getitem__(self, index) -> Optional[int]:\n",
    "        try:\n",
    "            return self.number_list[index]\n",
    "        except IndexError:\n",
    "            return None\n",
    "\n",
    "    def __iter__(self) -> Iterator[Tuple[int, Optional[int]]]:\n",
    "        for i, curr in enumerate(self.number_list):\n",
    "            yield curr, self[i+1] \n",
    "\n",
    "    def __call__(self):\n",
    "        self.result = sum([curr if next is None or curr >= next else -curr for curr, next in self])"
   ]
  },
  {
   "cell_type": "code",
   "execution_count": 6,
   "metadata": {},
   "outputs": [
    {
     "data": {
      "text/plain": "XXIV = 24"
     },
     "execution_count": 6,
     "metadata": {},
     "output_type": "execute_result"
    }
   ],
   "source": [
    "RomanToDecimal('XXIV')"
   ]
  },
  {
   "cell_type": "code",
   "execution_count": 7,
   "metadata": {},
   "outputs": [],
   "source": [
    "class DecimalToRoman:\n",
    "    number: int\n",
    "    roman_number: str = ''\n",
    "    numbers: Dict[int, str] = {\n",
    "        1: 'i', 4: 'iv', 5: 'v', 9: 'ix', 10: 'x', 40: 'xl',\n",
    "        50: 'l', 90: 'xc', 100: 'c', 400: 'cd', 500: 'd', 900: 'cm', 1000: 'm'\n",
    "    }\n",
    "    result: Optional[str] = None\n",
    "\n",
    "    def __init__(self, number: int) -> None:\n",
    "        if not isinstance(number, int):\n",
    "            raise NotRomanNumberException(f'{number=} must be an \"int\" instance')\n",
    "        if number > 3999:\n",
    "            raise NotRomanNumberException(f'{number=} is greater than max representation of roman number \"3999\"')\n",
    "        self.number = number\n",
    "        self()\n",
    "        \n",
    "    def __repr__(self) -> str:\n",
    "        return f'{self.number} = {self.result}'\n",
    "\n",
    "    def __iter__(self) -> Iterator[Tuple[int, str]]:\n",
    "        for k, v in reversed(self.numbers.items()):\n",
    "            yield k, v\n",
    "\n",
    "    def __call__(self):\n",
    "        total = self.number\n",
    "        self.result = ''\n",
    "        while total > 0:\n",
    "            for number, letter in self:\n",
    "                if total / number >= 1:\n",
    "                    total -= number\n",
    "                    self.result += letter.upper()\n",
    "                    break"
   ]
  },
  {
   "cell_type": "code",
   "execution_count": 8,
   "metadata": {},
   "outputs": [
    {
     "data": {
      "text/plain": "3999 = MMMCMXCIX"
     },
     "execution_count": 8,
     "metadata": {},
     "output_type": "execute_result"
    }
   ],
   "source": [
    "DecimalToRoman(3999)"
   ]
  },
  {
   "cell_type": "code",
   "execution_count": 9,
   "metadata": {},
   "outputs": [
    {
     "data": {
      "text/plain": "IV = 4"
     },
     "execution_count": 9,
     "metadata": {},
     "output_type": "execute_result"
    }
   ],
   "source": [
    "class RomanNumber:\n",
    "    def __init__(self, roman_number: str) -> None:\n",
    "        self.roman_number = roman_number.lower()\n",
    "\n",
    "    def __str__(self) -> str:\n",
    "        return self.roman_number.upper()\n",
    "\n",
    "    def __len__(self) -> int:\n",
    "        return len(self.roman_number)\n",
    "    \n",
    "    def __iter__(self) -> Iterator[Tuple[Optional[str], str, Optional[str]]]:\n",
    "        for i, curr in enumerate(self.roman_number):\n",
    "            yield self[i - 1], curr, self[i + 1]\n",
    "        \n",
    "    def __getitem__(self, index) -> Optional[str]:\n",
    "        if index < 0: return None\n",
    "        try:\n",
    "            return self.roman_number[index]\n",
    "        except IndexError:\n",
    "            return None\n",
    "\n",
    "class RomanToDecimal2:\n",
    "    letters: Dict[str, int] = dict(i=1, iv=4, v=5, ix=9, x=10, xl=40, l=50, xc=90, c=100, cd=400, d=500, cm=900, m=1000)\n",
    "    result: Optional[int] = None\n",
    "\n",
    "    def __init__(self, roman_number: str) -> None:\n",
    "        if not isinstance(roman_number, str):\n",
    "            raise NotRomanNumberException(f'{roman_number=} must be a \"str\" instance')\n",
    "        if not _is_roman(roman_number.lower(), self.letters.keys()):\n",
    "            raise NotRomanNumberException(f'{roman_number=} is not a valid roman number')\n",
    "        self.roman_number = RomanNumber(roman_number)\n",
    "        self()\n",
    "\n",
    "    def __repr__(self) -> str:\n",
    "        return str(self)\n",
    "\n",
    "    def __str__(self) -> str:\n",
    "        if not hasattr(self, 'result'): self()\n",
    "        return f'{self.roman_number} = {self.result}'\n",
    "\n",
    "    def __len__(self) -> int:\n",
    "        return len(self.roman_number)\n",
    "\n",
    "    def __getitem__(self, index) -> int:\n",
    "        return self.letters[index]\n",
    "        \n",
    "    def __contains__(self, key) -> bool:\n",
    "        return key in self.letters\n",
    "\n",
    "    def __call__(self) -> int:\n",
    "        string = ''\n",
    "        for previous_letter, letter, next_letter in self.roman_number:\n",
    "            if letter and next_letter and letter + next_letter in self:\n",
    "                continue\n",
    "            if previous_letter and letter and (rsl := previous_letter + letter) in self:\n",
    "                string += '*' * self[rsl]\n",
    "                continue\n",
    "            string += '*' * self[letter]\n",
    "        self.result = len(string)\n",
    "        return self.result\n",
    "\n",
    "a = RomanToDecimal2('IV')\n",
    "a"
   ]
  },
  {
   "cell_type": "code",
   "execution_count": 10,
   "metadata": {},
   "outputs": [],
   "source": [
    "test_roman_to_decimal()"
   ]
  },
  {
   "cell_type": "code",
   "execution_count": 11,
   "metadata": {},
   "outputs": [],
   "source": [
    "test_roman_to_decimal_2()"
   ]
  },
  {
   "cell_type": "code",
   "execution_count": null,
   "metadata": {},
   "outputs": [],
   "source": []
  },
  {
   "cell_type": "code",
   "execution_count": null,
   "metadata": {},
   "outputs": [],
   "source": []
  },
  {
   "cell_type": "code",
   "execution_count": null,
   "metadata": {},
   "outputs": [],
   "source": []
  }
 ],
 "metadata": {
  "interpreter": {
   "hash": "a0f7385a5c1e62c4cf4508ccf5d5e6ab99baf9f0df32f7e9dc8119b2ef5bd2c5"
  },
  "kernelspec": {
   "display_name": "Python 3 (ipykernel)",
   "language": "python",
   "name": "python3"
  },
  "language_info": {
   "name": "python",
   "version": ""
  },
  "metadata": {
   "interpreter": {
    "hash": "11f0019e3984bf9dd420d9c19157658dc02fa04e5bba99878acfb010fb7ecd1e"
   }
  },
  "widgets": {
   "application/vnd.jupyter.widget-state+json": {
    "state": {},
    "version_major": 2,
    "version_minor": 0
   }
  }
 },
 "nbformat": 4,
 "nbformat_minor": 4
}