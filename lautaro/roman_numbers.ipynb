{
 "cells": [
  {
   "cell_type": "code",
   "execution_count": 13,
   "metadata": {},
   "outputs": [],
   "source": [
    "from typing import *"
   ]
  },
  {
   "cell_type": "code",
   "execution_count": 2,
   "metadata": {},
   "outputs": [],
   "source": [
    "\r\n",
    "class RomanToDecimal:\r\n",
    "    letters: Dict[str, int] = dict(i=1, v=5, x=10, l=50, c=100, d=500, m=1000)\r\n",
    "    total: int\r\n",
    "    roman_number: str\r\n",
    "\r\n",
    "    def __init__(self, roman_number: str) -> None:\r\n",
    "        self.roman_number = roman_number.lower()\r\n",
    "        self.number_list = [self.letters[letter] for letter in self.roman_number]\r\n",
    "        self.resolve()\r\n",
    "\r\n",
    "    def __repr__(self) -> str:\r\n",
    "        return f'{self.roman_number.upper()} = {self.suma}'\r\n",
    "\r\n",
    "    def __getitem__(self, index) -> Optional[int]:\r\n",
    "        try:\r\n",
    "            return self.number_list[index]\r\n",
    "        except IndexError:\r\n",
    "            return None\r\n",
    "\r\n",
    "    def __iter__(self) -> Iterator[Tuple[int, Optional[int]]]:\r\n",
    "        for i, curr in enumerate(self.number_list):\r\n",
    "            yield curr, self[i+1] \r\n",
    "\r\n",
    "    def resolve(self):\r\n",
    "        self.suma = sum([curr if next is None or curr >= next else -curr for curr, next in self])"
   ]
  },
  {
   "cell_type": "code",
   "execution_count": 3,
   "metadata": {},
   "outputs": [
    {
     "data": {
      "text/plain": [
       "XXIV = 24"
      ]
     },
     "execution_count": 3,
     "metadata": {},
     "output_type": "execute_result"
    }
   ],
   "source": [
    "RomanToDecimal('XXIV')"
   ]
  },
  {
   "cell_type": "code",
   "execution_count": 4,
   "metadata": {},
   "outputs": [],
   "source": [
    "class DecimalToRoman:\r\n",
    "    number: int\r\n",
    "    roman_number: str = ''\r\n",
    "    numbers: Dict[int, str] = {\r\n",
    "        1: 'i', 4: 'iv', 5: 'v', 9: 'ix', 10: 'x', 40: 'xl',\r\n",
    "        50: 'l', 90: 'xc', 100: 'c', 400: 'cd', 500: 'd', 900: 'cm', 1000: 'm'\r\n",
    "    }\r\n",
    "\r\n",
    "    def __init__(self, number: int) -> None:\r\n",
    "        self.number = number\r\n",
    "        self.resolve()\r\n",
    "        \r\n",
    "    def __repr__(self) -> str:\r\n",
    "        return f'{self.number} = {self.roman_number}'\r\n",
    "\r\n",
    "    def __iter__(self) -> Iterator[Tuple[int, str]]:\r\n",
    "        for k, v in reversed(self.numbers.items()):\r\n",
    "            yield k, v\r\n",
    "\r\n",
    "    def resolve(self):\r\n",
    "        total = self.number\r\n",
    "        self.roman_number = ''\r\n",
    "        while total > 0:\r\n",
    "            for number, letter in self:\r\n",
    "                if total / number >= 1:\r\n",
    "                    total -= number\r\n",
    "                    self.roman_number += letter.upper()\r\n",
    "                    break"
   ]
  },
  {
   "cell_type": "code",
   "execution_count": 5,
   "metadata": {},
   "outputs": [
    {
     "data": {
      "text/plain": [
       "49 = XLIX"
      ]
     },
     "execution_count": 5,
     "metadata": {},
     "output_type": "execute_result"
    }
   ],
   "source": [
    "DecimalToRoman(49)"
   ]
  },
  {
   "cell_type": "code",
   "execution_count": 96,
   "metadata": {},
   "outputs": [
    {
     "ename": "NotRomanNumberException",
     "evalue": "roman_number=1 must be a \"str\" instance",
     "output_type": "error",
     "traceback": [
      "\u001b[0;31m---------------------------------------------------------------------------\u001b[0m",
      "\u001b[0;31mNotRomanNumberException\u001b[0m                   Traceback (most recent call last)",
      "\u001b[0;32m/var/folders/8k/zc863l310wlfmw3c8yz_4sg80000gn/T/ipykernel_15863/3763435135.py\u001b[0m in \u001b[0;36m<module>\u001b[0;34m\u001b[0m\n\u001b[1;32m     82\u001b[0m         \u001b[0;32mreturn\u001b[0m \u001b[0mself\u001b[0m\u001b[0;34m.\u001b[0m\u001b[0mresult\u001b[0m\u001b[0;34m\u001b[0m\u001b[0;34m\u001b[0m\u001b[0m\n\u001b[1;32m     83\u001b[0m \u001b[0;34m\u001b[0m\u001b[0m\n\u001b[0;32m---> 84\u001b[0;31m \u001b[0ma\u001b[0m \u001b[0;34m=\u001b[0m \u001b[0mRomanToDecimal2\u001b[0m\u001b[0;34m(\u001b[0m\u001b[0;36m1\u001b[0m\u001b[0;34m)\u001b[0m\u001b[0;34m\u001b[0m\u001b[0;34m\u001b[0m\u001b[0m\n\u001b[0m\u001b[1;32m     85\u001b[0m \u001b[0ma\u001b[0m\u001b[0;34m\u001b[0m\u001b[0;34m\u001b[0m\u001b[0m\n",
      "\u001b[0;32m/var/folders/8k/zc863l310wlfmw3c8yz_4sg80000gn/T/ipykernel_15863/3763435135.py\u001b[0m in \u001b[0;36m__init__\u001b[0;34m(self, roman_number)\u001b[0m\n\u001b[1;32m     49\u001b[0m     \u001b[0;32mdef\u001b[0m \u001b[0m__init__\u001b[0m\u001b[0;34m(\u001b[0m\u001b[0mself\u001b[0m\u001b[0;34m,\u001b[0m \u001b[0mroman_number\u001b[0m\u001b[0;34m:\u001b[0m \u001b[0mstr\u001b[0m\u001b[0;34m)\u001b[0m \u001b[0;34m->\u001b[0m \u001b[0;32mNone\u001b[0m\u001b[0;34m:\u001b[0m\u001b[0;34m\u001b[0m\u001b[0;34m\u001b[0m\u001b[0m\n\u001b[1;32m     50\u001b[0m         \u001b[0;32mif\u001b[0m \u001b[0;32mnot\u001b[0m \u001b[0misinstance\u001b[0m\u001b[0;34m(\u001b[0m\u001b[0mroman_number\u001b[0m\u001b[0;34m,\u001b[0m \u001b[0mstr\u001b[0m\u001b[0;34m)\u001b[0m\u001b[0;34m:\u001b[0m\u001b[0;34m\u001b[0m\u001b[0;34m\u001b[0m\u001b[0m\n\u001b[0;32m---> 51\u001b[0;31m             \u001b[0;32mraise\u001b[0m \u001b[0mNotRomanNumberException\u001b[0m\u001b[0;34m(\u001b[0m\u001b[0;34mf'{roman_number=} must be a \"str\" instance'\u001b[0m\u001b[0;34m)\u001b[0m\u001b[0;34m\u001b[0m\u001b[0;34m\u001b[0m\u001b[0m\n\u001b[0m\u001b[1;32m     52\u001b[0m         \u001b[0;32mif\u001b[0m \u001b[0;32mnot\u001b[0m \u001b[0m_is_roman\u001b[0m\u001b[0;34m(\u001b[0m\u001b[0mroman_number\u001b[0m\u001b[0;34m.\u001b[0m\u001b[0mlower\u001b[0m\u001b[0;34m(\u001b[0m\u001b[0;34m)\u001b[0m\u001b[0;34m,\u001b[0m \u001b[0mself\u001b[0m\u001b[0;34m.\u001b[0m\u001b[0mletters\u001b[0m\u001b[0;34m.\u001b[0m\u001b[0mkeys\u001b[0m\u001b[0;34m(\u001b[0m\u001b[0;34m)\u001b[0m\u001b[0;34m)\u001b[0m\u001b[0;34m:\u001b[0m\u001b[0;34m\u001b[0m\u001b[0;34m\u001b[0m\u001b[0m\n\u001b[1;32m     53\u001b[0m             \u001b[0;32mraise\u001b[0m \u001b[0mNotRomanNumberException\u001b[0m\u001b[0;34m(\u001b[0m\u001b[0;34mf'{roman_number=} is not a valid roman number'\u001b[0m\u001b[0;34m)\u001b[0m\u001b[0;34m\u001b[0m\u001b[0;34m\u001b[0m\u001b[0m\n",
      "\u001b[0;31mNotRomanNumberException\u001b[0m: roman_number=1 must be a \"str\" instance"
     ]
    }
   ],
   "source": [
    "from typing import *\n",
    "\n",
    "\n",
    "def _is_roman(string: str, letters: List[str]) -> bool:\n",
    "    import re\n",
    "    izi_regex = re.compile(r'^(?=[MDCLXVI])M*(C[MD]|D?C{0,3})(X[CL]|L?X{0,3})(I[XV]|V?I{0,3})$')\n",
    "    from itertools import groupby\n",
    "    groups = groupby(string)\n",
    "    # All letters are romman letters\n",
    "    if not all([letter in letters for letter in string]):\n",
    "        return False\n",
    "    # If any of the romman letters is repeated more than 3 times in a row, is not roman number\n",
    "    if any([count > 3 for _, count in [(label, sum(1 for _ in group)) for label, group in groups]]):\n",
    "        return False\n",
    "    # If any of the two letter romman numbers is repeated more than once, is not roman number\n",
    "    if any([len(string.split(double_letter)) - 1 > 1 for double_letter in filter(lambda x: len(x) == 2, letters)]):\n",
    "        return False\n",
    "    if not izi_regex.match(string.upper()):\n",
    "        return False\n",
    "    return True\n",
    "\n",
    "class NotRomanNumberException(Exception):\n",
    "    pass\n",
    "\n",
    "class RomanNumber:\n",
    "    def __init__(self, roman_number: str) -> None:\n",
    "        self.roman_number = roman_number.lower()\n",
    "\n",
    "    def __str__(self) -> str:\n",
    "        return self.roman_number.upper()\n",
    "\n",
    "    def __len__(self) -> int:\n",
    "        return len(self.roman_number)\n",
    "    \n",
    "    def __iter__(self) -> Iterator[Tuple[Optional[str], str, Optional[str]]]:\n",
    "        for i, curr in enumerate(self.roman_number):\n",
    "            yield self[i - 1], curr, self[i + 1]\n",
    "        \n",
    "    def __getitem__(self, index) -> Optional[str]:\n",
    "        if index < 0: return None\n",
    "        try:\n",
    "            return self.roman_number[index]\n",
    "        except IndexError:\n",
    "            return None\n",
    "\n",
    "class RomanToDecimal2:\n",
    "    letters: Dict[str, int] = dict(i=1, iv=4, v=5, ix=9, x=10, xl=40, l=50, xc=90, c=100, cd=400, d=500, cm=900, m=1000)\n",
    "\n",
    "    def __init__(self, roman_number: str) -> None:\n",
    "        if not isinstance(roman_number, str):\n",
    "            raise NotRomanNumberException(f'{roman_number=} must be a \"str\" instance')\n",
    "        if not _is_roman(roman_number.lower(), self.letters.keys()):\n",
    "            raise NotRomanNumberException(f'{roman_number=} is not a valid roman number')\n",
    "        self.roman_number = RomanNumber(roman_number)\n",
    "\n",
    "    def __repr__(self) -> str:\n",
    "        return str(self)\n",
    "\n",
    "    def __str__(self) -> str:\n",
    "        if not hasattr(self, 'result'): self()\n",
    "        return f'{self.roman_number} = {self.result}'\n",
    "\n",
    "    def __len__(self) -> int:\n",
    "        return len(self.roman_number)\n",
    "\n",
    "    def __getitem__(self, index) -> int:\n",
    "        return self.letters[index]\n",
    "        \n",
    "    def __contains__(self, key) -> bool:\n",
    "        return key in self.letters\n",
    "\n",
    "    def __call__(self) -> int:\n",
    "        string = ''\n",
    "        for previous_letter, letter, next_letter in self.roman_number:\n",
    "            if letter and next_letter and letter + next_letter in self:\n",
    "                continue\n",
    "            if previous_letter and letter and (rsl := previous_letter + letter) in self:\n",
    "                string += 'i' * self[rsl]\n",
    "                continue\n",
    "            string += 'i' * self[letter]\n",
    "        self.result = len(string)\n",
    "        return self.result\n",
    "\n",
    "a = RomanToDecimal2(1)\n",
    "a"
   ]
  },
  {
   "cell_type": "code",
   "execution_count": 90,
   "metadata": {},
   "outputs": [
    {
     "data": {
      "text/plain": "'V'"
     },
     "execution_count": 90,
     "metadata": {},
     "output_type": "execute_result"
    }
   ],
   "source": []
  },
  {
   "cell_type": "code",
   "execution_count": null,
   "metadata": {},
   "outputs": [],
   "source": []
  }
 ],
 "metadata": {
  "interpreter": {
   "hash": "a0f7385a5c1e62c4cf4508ccf5d5e6ab99baf9f0df32f7e9dc8119b2ef5bd2c5"
  },
  "kernelspec": {
   "display_name": "Python 3 (ipykernel)",
   "language": "python",
   "name": "python3"
  },
  "language_info": {
   "name": "python",
   "version": ""
  },
  "metadata": {
   "interpreter": {
    "hash": "11f0019e3984bf9dd420d9c19157658dc02fa04e5bba99878acfb010fb7ecd1e"
   }
  },
  "widgets": {
   "application/vnd.jupyter.widget-state+json": {
    "state": {},
    "version_major": 2,
    "version_minor": 0
   }
  }
 },
 "nbformat": 4,
 "nbformat_minor": 4
}