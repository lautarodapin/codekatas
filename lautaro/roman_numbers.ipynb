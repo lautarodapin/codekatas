{
 "cells": [
  {
   "cell_type": "code",
   "execution_count": 1,
   "metadata": {},
   "outputs": [],
   "source": [
    "from typing import *"
   ]
  },
  {
   "cell_type": "code",
   "execution_count": 2,
   "metadata": {},
   "outputs": [],
   "source": [
    "\r\n",
    "class RomanToDecimal:\r\n",
    "    letters: Dict[str, int] = dict(i=1, v=5, x=10, l=50, c=100, d=500, m=1000)\r\n",
    "    total: int\r\n",
    "    roman_number: str\r\n",
    "\r\n",
    "    def __init__(self, roman_number: str) -> None:\r\n",
    "        self.roman_number = roman_number.lower()\r\n",
    "        self.number_list = [self.letters[letter] for letter in self.roman_number]\r\n",
    "        self.resolve()\r\n",
    "\r\n",
    "    def __repr__(self) -> str:\r\n",
    "        return f'{self.roman_number.upper()} = {self.suma}'\r\n",
    "\r\n",
    "    def __getitem__(self, index) -> Optional[int]:\r\n",
    "        try:\r\n",
    "            return self.number_list[index]\r\n",
    "        except IndexError:\r\n",
    "            return None\r\n",
    "\r\n",
    "    def __iter__(self) -> Iterator[Tuple[int, Optional[int]]]:\r\n",
    "        for i, curr in enumerate(self.number_list):\r\n",
    "            yield curr, self[i+1] \r\n",
    "\r\n",
    "    def resolve(self):\r\n",
    "        self.suma = sum([curr if next is None or curr >= next else -curr for curr, next in self])"
   ]
  },
  {
   "cell_type": "code",
   "execution_count": 3,
   "metadata": {},
   "outputs": [
    {
     "data": {
      "text/plain": [
       "XXIV = 24"
      ]
     },
     "execution_count": 3,
     "metadata": {},
     "output_type": "execute_result"
    }
   ],
   "source": [
    "RomanToDecimal('XXIV')"
   ]
  },
  {
   "cell_type": "code",
   "execution_count": 4,
   "metadata": {},
   "outputs": [],
   "source": [
    "class DecimalToRoman:\r\n",
    "    number: int\r\n",
    "    roman_number: str = ''\r\n",
    "    numbers: Dict[int, str] = {\r\n",
    "        1: 'i', 4: 'iv', 5: 'v', 9: 'ix', 10: 'x', 40: 'xl',\r\n",
    "        50: 'l', 90: 'xc', 100: 'c', 400: 'cd', 500: 'd', 900: 'cm', 1000: 'm'\r\n",
    "    }\r\n",
    "\r\n",
    "    def __init__(self, number: int) -> None:\r\n",
    "        self.number = number\r\n",
    "        self.resolve()\r\n",
    "        \r\n",
    "    def __repr__(self) -> str:\r\n",
    "        return f'{self.number} = {self.roman_number}'\r\n",
    "\r\n",
    "    def __iter__(self) -> Iterator[Tuple[int, str]]:\r\n",
    "        for k, v in reversed(self.numbers.items()):\r\n",
    "            yield k, v\r\n",
    "\r\n",
    "    def resolve(self):\r\n",
    "        total = self.number\r\n",
    "        self.roman_number = ''\r\n",
    "        while total > 0:\r\n",
    "            for number, letter in self:\r\n",
    "                if total / number >= 1:\r\n",
    "                    total -= number\r\n",
    "                    self.roman_number += letter.upper()\r\n",
    "                    break"
   ]
  },
  {
   "cell_type": "code",
   "execution_count": 5,
   "metadata": {},
   "outputs": [
    {
     "data": {
      "text/plain": [
       "49 = XLIX"
      ]
     },
     "execution_count": 5,
     "metadata": {},
     "output_type": "execute_result"
    }
   ],
   "source": [
    "DecimalToRoman(49)"
   ]
  },
  {
   "cell_type": "code",
   "execution_count": 103,
   "metadata": {},
   "outputs": [
    {
     "data": {
      "text/plain": [
       "MMMCMXCIX = 3999"
      ]
     },
     "execution_count": 103,
     "metadata": {},
     "output_type": "execute_result"
    }
   ],
   "source": [
    "class RomanToDecimal2:\n",
    "    letters: Dict[str, int] = dict(i=1, iv=4, v=5, ix=9, x=10, xl=40, l=50, xc=90, c=100, cd=400, d=500, cm=900, m=1000)\n",
    "\n",
    "    def __init__(self, roman_number: str) -> None:\n",
    "        self.roman_number = roman_number.lower()\n",
    "        self.resolve()\n",
    "\n",
    "    def __repr__(self) -> str:\n",
    "        return str(self)\n",
    "\n",
    "    def __str__(self) -> str:\n",
    "        return f'{self.roman_number.upper()} = {self.result}'\n",
    "\n",
    "    def __iter__(self) -> Iterator[Tuple[Optional[str], str, Optional[str]]]:\n",
    "        for i, curr in enumerate(self.roman_number):\n",
    "            if i == 0:\n",
    "                yield None, curr, self.roman_number[i+1]\n",
    "            elif i+1 == len(self.roman_number):\n",
    "                yield self.roman_number[i-1], curr, None\n",
    "            else:\n",
    "                yield self.roman_number[i-1], curr, self.roman_number[i+1]\n",
    "\n",
    "    def __getitem__(self, index) -> int:\n",
    "        return self.letters[index]\n",
    "        \n",
    "    def __contains__(self, key):\n",
    "        return key in self.letters\n",
    "\n",
    "    def resolve(self) -> int:\n",
    "        string = ''\n",
    "        for previous_letter, letter, next_letter in self:\n",
    "            if letter and next_letter and letter + next_letter in self:\n",
    "                continue\n",
    "            if previous_letter and letter and previous_letter + letter in self:\n",
    "                string += 'i' * self[previous_letter + letter]\n",
    "                continue\n",
    "            string += 'i' * self[letter]\n",
    "        self.result = len(string)\n",
    "        return self.result\n",
    "\n",
    "a = RomanToDecimal2('MMMCMXCIX')\n",
    "a"
   ]
  },
  {
   "cell_type": "code",
   "execution_count": null,
   "metadata": {},
   "outputs": [],
   "source": []
  },
  {
   "cell_type": "code",
   "execution_count": null,
   "metadata": {},
   "outputs": [],
   "source": []
  }
 ],
 "metadata": {
  "interpreter": {
   "hash": "a0f7385a5c1e62c4cf4508ccf5d5e6ab99baf9f0df32f7e9dc8119b2ef5bd2c5"
  },
  "kernelspec": {
   "display_name": "Python 3 (ipykernel)",
   "language": "python",
   "name": "python3"
  },
  "language_info": {
   "codemirror_mode": {
    "name": "ipython",
    "version": 3
   },
   "file_extension": ".py",
   "mimetype": "text/x-python",
   "name": "python",
   "nbconvert_exporter": "python",
   "pygments_lexer": "ipython3",
   "version": "3.9.6"
  },
  "metadata": {
   "interpreter": {
    "hash": "11f0019e3984bf9dd420d9c19157658dc02fa04e5bba99878acfb010fb7ecd1e"
   }
  },
  "widgets": {
   "application/vnd.jupyter.widget-state+json": {
    "state": {},
    "version_major": 2,
    "version_minor": 0
   }
  }
 },
 "nbformat": 4,
 "nbformat_minor": 4
}
