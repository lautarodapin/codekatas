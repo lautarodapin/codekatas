{
    "cells": [
        {
            "cell_type": "code",
            "execution_count": 21,
            "source": [
                "from enum import Enum\r\n",
                "from dataclasses import dataclass\r\n",
                "from typing import *\r\n",
                "\r\n",
                "@dataclass\r\n",
                "class StateValue:\r\n",
                "    number: int\r\n",
                "    string: str\r\n",
                "\r\n",
                "@dataclass\r\n",
                "class Coordinate:\r\n",
                "    i: int\r\n",
                "    j: int\r\n",
                "\r\n",
                "\r\n",
                "class State(Enum):\r\n",
                "    start = StateValue(1, 'o')\r\n",
                "    empty = StateValue(0, ' ')\r\n",
                "    end = StateValue(2, 'X')\r\n",
                "    obstacle = StateValue(3, '|')\r\n",
                "    path = StateValue(3, 'o')\r\n",
                "\r\n",
                "    @classmethod\r\n",
                "    def int_to_state(cls, number: int):\r\n",
                "        return rsl[0] if len(rsl:=[state for state in State if state.value.number == number]) > 0 else None\r\n",
                "\r\n",
                "mapa = [\r\n",
                "    [1, 3 , 0, 0,  0],\r\n",
                "    [0, 3 , 0, 0,  2],\r\n",
                "    [3, 0 , 0, 0,  0],\r\n",
                "]"
            ],
            "outputs": [],
            "metadata": {}
        },
        {
            "cell_type": "code",
            "execution_count": 22,
            "source": [
                "State.start.value"
            ],
            "outputs": [
                {
                    "output_type": "execute_result",
                    "data": {
                        "text/plain": [
                            "StateValue(number=1, string='o')"
                        ]
                    },
                    "metadata": {},
                    "execution_count": 22
                }
            ],
            "metadata": {}
        },
        {
            "cell_type": "code",
            "execution_count": 23,
            "source": [
                "class Nodo:\r\n",
                "    distance_to_end: int\r\n",
                "    gain: int\r\n",
                "    parent = None #  type: Node\r\n",
                "    def __init__(self, state: State, coordinate: Coordinate, end: Coordinate) -> None:\r\n",
                "        self.state = state\r\n",
                "        self.coordinate = coordinate\r\n",
                "        self.end = end\r\n",
                "        self.calculate(end)\r\n",
                "\r\n",
                "    def __repr__(self) -> str:\r\n",
                "        return str(self)\r\n",
                "\r\n",
                "    def __str__(self) -> str:\r\n",
                "        return f'''Nodo ({self.coordinate}),\\t{self.state.name}={self.state},\\tG={self.distance_to_end})'''\r\n",
                "\r\n",
                "    def calculate(self, coordinate: Coordinate) -> int:\r\n",
                "        self.distance_to_end = (\r\n",
                "            abs(self.coordinate.i - coordinate.i)**2 \r\n",
                "            + abs(self.coordinate.j - coordinate.j)**2\r\n",
                "        )\r\n",
                "        \r\n",
                "    def __lt__(self, other):\r\n",
                "        return self.distance_to_end < other.distance_to_end\r\n",
                "\r\n",
                "    def __le__(self, other):\r\n",
                "        return self.distance_to_end <= other.distance_to_end\r\n",
                "\r\n",
                "    def __eq__(self, other):\r\n",
                "        return self.distance_to_end == other.distance_to_end\r\n",
                "\r\n",
                "    def __ne__(self, other):\r\n",
                "        return self.distance_to_end != other.distance_to_end\r\n",
                "\r\n",
                "    def __gt__(self, other):\r\n",
                "        return self.distance_to_end > other.distance_to_end\r\n",
                "\r\n",
                "    def __ge__(self, other):\r\n",
                "        return self.distance_to_end >= other.distance_to_end\r\n",
                "\r\n",
                "class Mapa:\r\n",
                "    mapa: List[List[Nodo]]\r\n",
                "\r\n",
                "    def __init__(self, mapa: List[List[int]]) -> None:\r\n",
                "        for i, row in enumerate(mapa):\r\n",
                "            for j, cell in enumerate(row):\r\n",
                "                if State.int_to_state(cell) == State.start:\r\n",
                "                    self.init = Coordinate(i=i, j=j)\r\n",
                "                elif State.int_to_state(cell) == State.end:\r\n",
                "                    self.end = Coordinate(i=i, j=j)\r\n",
                "        self.mapa = [\r\n",
                "            [\r\n",
                "                Nodo(state=State.int_to_state(cell), coordinate=Coordinate(i, j), end=self.end) \r\n",
                "                for j, cell in enumerate(row)\r\n",
                "            ] \r\n",
                "            for i, row in enumerate(mapa)\r\n",
                "        ]\r\n",
                "        self.init = self.mapa[self.init.i][self.init.j]\r\n",
                "        self.end = self.mapa[self.end.i][self.end.j]\r\n",
                "\r\n",
                "    def __repr__(self) -> str:\r\n",
                "        return str(self)\r\n",
                "\r\n",
                "    def __str__(self) -> str:\r\n",
                "        rsl = ''\r\n",
                "        for row in self.mapa:\r\n",
                "            for cell in row:\r\n",
                "                rsl += f'{cell.state.value.string}'\r\n",
                "            rsl += '\\n'\r\n",
                "        return rsl\r\n",
                "    \r\n",
                "    def __getitem__(self, index: Tuple[int, int]) -> Optional[Nodo]:\r\n",
                "        i, j = index\r\n",
                "        if i < 0 or j < 0: return None\r\n",
                "        try:\r\n",
                "            rsl =  self.mapa[i][j]\r\n",
                "            if rsl.state == State.obstacle:\r\n",
                "                return None\r\n",
                "            return rsl\r\n",
                "        except IndexError:\r\n",
                "            return None\r\n",
                "\r\n",
                "    def calculate(self, nodo: Nodo) -> Optional[Nodo]:\r\n",
                "        surroundings = [\r\n",
                "            self[nodo.coordinate.i+1, nodo.coordinate.j],\r\n",
                "            self[nodo.coordinate.i-1, nodo.coordinate.j],\r\n",
                "            self[nodo.coordinate.i, nodo.coordinate.j+1],\r\n",
                "            self[nodo.coordinate.i, nodo.coordinate.j-1],\r\n",
                "            self[nodo.coordinate.i+1, nodo.coordinate.j+1],\r\n",
                "            self[nodo.coordinate.i+1, nodo.coordinate.j-1],\r\n",
                "            self[nodo.coordinate.i-1, nodo.coordinate.j-1],\r\n",
                "            self[nodo.coordinate.i-1, nodo.coordinate.j+1],\r\n",
                "        ]\r\n",
                "        _next: Nodo = min(filter(lambda x: x is not None, surroundings))\r\n",
                "        _next.parent = nodo\r\n",
                "        return _next\r\n",
                "\r\n",
                "    def resolve(self):\r\n",
                "        curr = self.init\r\n",
                "        while True:\r\n",
                "            curr.state = State.path\r\n",
                "            curr = self.calculate(curr)\r\n",
                "            print(self)\r\n",
                "            if curr.state == State.end:\r\n",
                "                break\r\n"
            ],
            "outputs": [],
            "metadata": {}
        },
        {
            "cell_type": "code",
            "execution_count": 24,
            "source": [
                "a = Mapa(mapa)\r\n",
                "a.resolve()"
            ],
            "outputs": [
                {
                    "output_type": "stream",
                    "name": "stdout",
                    "text": [
                        "o|   \n",
                        " |  X\n",
                        "|    \n",
                        "\n",
                        "o|   \n",
                        "o|  X\n",
                        "|    \n",
                        "\n",
                        "o|   \n",
                        "o|  X\n",
                        "|o   \n",
                        "\n",
                        "o|   \n",
                        "o|o X\n",
                        "|o   \n",
                        "\n",
                        "o|   \n",
                        "o|ooX\n",
                        "|o   \n",
                        "\n"
                    ]
                }
            ],
            "metadata": {}
        },
        {
            "cell_type": "code",
            "execution_count": null,
            "source": [],
            "outputs": [],
            "metadata": {}
        },
        {
            "cell_type": "code",
            "execution_count": null,
            "source": [],
            "outputs": [],
            "metadata": {}
        },
        {
            "cell_type": "code",
            "execution_count": null,
            "source": [],
            "outputs": [],
            "metadata": {}
        }
    ],
    "metadata": {
        "orig_nbformat": 4,
        "language_info": {
            "name": "python",
            "version": "3.8.4",
            "mimetype": "text/x-python",
            "codemirror_mode": {
                "name": "ipython",
                "version": 3
            },
            "pygments_lexer": "ipython3",
            "nbconvert_exporter": "python",
            "file_extension": ".py"
        },
        "kernelspec": {
            "name": "python3",
            "display_name": "Python 3.8.4 64-bit"
        },
        "interpreter": {
            "hash": "a0f7385a5c1e62c4cf4508ccf5d5e6ab99baf9f0df32f7e9dc8119b2ef5bd2c5"
        }
    },
    "nbformat": 4,
    "nbformat_minor": 2
}