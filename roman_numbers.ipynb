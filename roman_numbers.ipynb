{
 "cells": [
  {
   "cell_type": "code",
   "execution_count": 5,
   "source": [
    "from typing import *"
   ],
   "outputs": [],
   "metadata": {}
  },
  {
   "cell_type": "code",
   "execution_count": 67,
   "source": [
    "\r\n",
    "class RomanToDecimal:\r\n",
    "    letters: Dict[str, int] = dict(i=1, v=5, x=10, l=50, c=100, d=500, m=1000)\r\n",
    "    total: int\r\n",
    "    roman_number: str\r\n",
    "\r\n",
    "    def __init__(self, roman_number: str) -> None:\r\n",
    "        self.roman_number = roman_number.lower()\r\n",
    "        self.number_list = [self.letters[letter] for letter in self.roman_number]\r\n",
    "        self.resolve()\r\n",
    "\r\n",
    "    def __repr__(self) -> str:\r\n",
    "        return f'{self.roman_number.upper()} = {self.suma}'\r\n",
    "\r\n",
    "    def __getitem__(self, index) -> Optional[int]:\r\n",
    "        try:\r\n",
    "            return self.number_list[index]\r\n",
    "        except IndexError:\r\n",
    "            return None\r\n",
    "\r\n",
    "    def __iter__(self) -> Iterator[Tuple[int, Optional[int]]]:\r\n",
    "        for i, curr in enumerate(self.number_list):\r\n",
    "            yield curr, self[i+1] \r\n",
    "\r\n",
    "    def resolve(self):\r\n",
    "        self.suma = sum([curr if next is None or curr >= next else -curr for curr, next in self])"
   ],
   "outputs": [],
   "metadata": {}
  },
  {
   "cell_type": "code",
   "execution_count": 68,
   "source": [
    "RomanToDecimal('XXIV')"
   ],
   "outputs": [
    {
     "output_type": "execute_result",
     "data": {
      "text/plain": [
       "XXIV = 24"
      ]
     },
     "metadata": {},
     "execution_count": 68
    }
   ],
   "metadata": {}
  },
  {
   "cell_type": "code",
   "execution_count": 71,
   "source": [
    "class DecimalToRoman:\r\n",
    "    number: int\r\n",
    "    roman_number: str = ''\r\n",
    "    numbers: Dict[int, str] = {\r\n",
    "        1: 'i', 4: 'iv', 5: 'v', 9: 'ix', 10: 'x', 40: 'xl',\r\n",
    "        50: 'l', 90: 'xc', 100: 'c', 400: 'cd', 500: 'd', 900: 'cm', 1000: 'm'\r\n",
    "    }\r\n",
    "\r\n",
    "    def __init__(self, number: int) -> None:\r\n",
    "        self.number = number\r\n",
    "        self.resolve()\r\n",
    "        \r\n",
    "    def __repr__(self) -> str:\r\n",
    "        return f'{self.number} = {self.roman_number}'\r\n",
    "\r\n",
    "    def __iter__(self) -> Iterator[Tuple[int, str]]:\r\n",
    "        for k, v in reversed(self.numbers.items()):\r\n",
    "            yield k, v\r\n",
    "\r\n",
    "    def resolve(self):\r\n",
    "        total = self.number\r\n",
    "        self.roman_number = ''\r\n",
    "        while total > 0:\r\n",
    "            for number, letter in self:\r\n",
    "                if total / number >= 1:\r\n",
    "                    total -= number\r\n",
    "                    self.roman_number += letter.upper()\r\n",
    "                    break"
   ],
   "outputs": [],
   "metadata": {}
  },
  {
   "cell_type": "code",
   "execution_count": 72,
   "source": [
    "DecimalToRoman(49)"
   ],
   "outputs": [
    {
     "output_type": "execute_result",
     "data": {
      "text/plain": [
       "49 = XLIX"
      ]
     },
     "metadata": {},
     "execution_count": 72
    }
   ],
   "metadata": {}
  },
  {
   "cell_type": "code",
   "execution_count": null,
   "source": [],
   "outputs": [],
   "metadata": {}
  }
 ],
 "metadata": {
  "orig_nbformat": 4,
  "language_info": {
   "name": "python",
   "version": "3.8.4",
   "mimetype": "text/x-python",
   "codemirror_mode": {
    "name": "ipython",
    "version": 3
   },
   "pygments_lexer": "ipython3",
   "nbconvert_exporter": "python",
   "file_extension": ".py"
  },
  "kernelspec": {
   "name": "python3",
   "display_name": "Python 3.8.4 64-bit"
  },
  "interpreter": {
   "hash": "a0f7385a5c1e62c4cf4508ccf5d5e6ab99baf9f0df32f7e9dc8119b2ef5bd2c5"
  }
 },
 "nbformat": 4,
 "nbformat_minor": 2
}